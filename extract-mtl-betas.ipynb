{
 "cells": [
  {
   "cell_type": "code",
   "execution_count": null,
   "id": "1c30e4cd-a547-4e59-bc0f-3aa0339b2621",
   "metadata": {},
   "outputs": [],
   "source": [
    "##Final script used to generate mtl extracted betas"
   ]
  },
  {
   "cell_type": "code",
   "execution_count": null,
   "id": "0f0e934c-61d4-452b-b41f-7d5d96ff9b22",
   "metadata": {},
   "outputs": [],
   "source": [
    "import os\n",
    "import numpy as np\n",
    "import nibabel as nib\n",
    "import h5py\n",
    "import gc"
   ]
  },
  {
   "cell_type": "code",
   "execution_count": null,
   "id": "a168c73c-05ee-4e26-9bac-47d75dcc577b",
   "metadata": {},
   "outputs": [],
   "source": [
    "SAVE_BASE_PATH = \"/home/jovyan/cache/memoryNSD/\" #change this based on where you want to save the h5 files"
   ]
  },
  {
   "cell_type": "code",
   "execution_count": null,
   "id": "4086a1d0-6a94-4197-bcb7-96a1d453eaf0",
   "metadata": {},
   "outputs": [],
   "source": [
    "# === Step 1: Download function ===\n",
    "def download_nsd_data(subject, session, save_path=SAVE_BASE_PATH):\n",
    "    subj_str = f\"subj{subject:02d}\"\n",
    "    session_str = f\"session{session:02d}\"\n",
    "\n",
    "    url = f\"https://natural-scenes-dataset.s3.amazonaws.com/nsddata_betas/ppdata/{subj_str}/func1mm/betas_fithrf_GLMdenoise_RR/betas_{session_str}.nii.gz\"\n",
    "    file_path = os.path.join(save_path, f\"{subj_str}_betas_{session_str}.nii.gz\")\n",
    "\n",
    "    os.system(f\"wget -q -O {file_path} {url}\")\n",
    "    print(f\"Downloaded beta file: {file_path}\")\n",
    "    return file_path\n",
    "\n",
    "def download_mtl_mask(subject, save_path=SAVE_BASE_PATH):\n",
    "    subj_str = f\"subj{subject:02d}\"\n",
    "    url = f\"https://natural-scenes-dataset.s3.amazonaws.com/nsddata/ppdata/{subj_str}/func1mm/roi/MTL.nii.gz\"\n",
    "    file_path = os.path.join(save_path, f\"{subj_str}_MTL.nii.gz\")\n",
    "\n",
    "    os.system(f\"wget -q -O {file_path} {url}\")\n",
    "    print(f\"Downloaded MTL mask: {file_path}\")\n",
    "    return file_path"
   ]
  },
  {
   "cell_type": "code",
   "execution_count": null,
   "id": "9141628f-7f37-4b47-a3ba-abfb7b7ea273",
   "metadata": {},
   "outputs": [],
   "source": [
    "# === Step 2: Load NIfTI ===\n",
    "def load_betas(file_path):\n",
    "    img = nib.load(file_path)\n",
    "    return img.get_fdata(dtype=np.float32) / 300.0\n",
    "\n",
    "def load_mask(file_path):\n",
    "    img = nib.load(file_path)\n",
    "    return img.get_fdata(dtype=np.float32)"
   ]
  },
  {
   "cell_type": "code",
   "execution_count": null,
   "id": "e81d4749-f68c-4a31-acc4-de3e46037b54",
   "metadata": {},
   "outputs": [],
   "source": [
    "# === Step 3: Extract ROI betas ===\n",
    "def extract_roi_betas(fmri_data, roi_indices):\n",
    "    roi_betas = []\n",
    "    for i in range(len(roi_indices[0])):\n",
    "        x, y, z = roi_indices[0][i], roi_indices[1][i], roi_indices[2][i]\n",
    "        voxel_betas = fmri_data[x, y, z]\n",
    "        voxel_betas_normalized = (voxel_betas - np.mean(voxel_betas)) / np.std(voxel_betas)\n",
    "        roi_betas.append(voxel_betas_normalized)\n",
    "    return np.array(roi_betas).T\n",
    "\n",
    "def extract_mtl_rois(fmri_data, mtl_data):\n",
    "    mtl_rois = {}\n",
    "    for roi_label in range(1, 11):  # Labels 1 to 10\n",
    "        roi_indices = np.where(mtl_data == roi_label)\n",
    "        if len(roi_indices[0]) > 0:\n",
    "            roi_betas = extract_roi_betas(fmri_data, roi_indices)\n",
    "            mtl_rois[roi_label] = roi_betas\n",
    "    return mtl_rois"
   ]
  },
  {
   "cell_type": "code",
   "execution_count": null,
   "id": "d2f6aa26-871c-48a5-b47a-a3fdc3e5c168",
   "metadata": {},
   "outputs": [],
   "source": [
    "# === Step 4: Save HDF5 ===\n",
    "def save_hdf5(data, file_path):\n",
    "    with h5py.File(file_path, 'w') as hf:\n",
    "        for session, rois in data.items():\n",
    "            session_group = hf.create_group(f\"session{session:02d}\")\n",
    "            for roi_label, roi_data in rois.items():\n",
    "                session_group.create_dataset(f\"roi_{roi_label}\", data=roi_data)\n",
    "    print(f\"Saved all_mtl_sessions to {file_path}\")"
   ]
  },
  {
   "cell_type": "code",
   "execution_count": null,
   "id": "4d20cefb-c944-4c11-9604-17a3dc4f73c3",
   "metadata": {},
   "outputs": [],
   "source": [
    "# === Step 5: Process all subjects ===\n",
    "for subject in range(1, 9):  # Change range for more subjects (e.g., range(1, 9))\n",
    "    print(f\"\\n--- Processing Subject {subject:02d} ---\")\n",
    "    all_mtl_sessions = {}\n",
    "\n",
    "    # Download subject-specific MTL mask\n",
    "    mtl_mask_path = download_mtl_mask(subject)\n",
    "    MTL_data = load_mask(mtl_mask_path)\n",
    "\n",
    "    for session in range(1, 41):  # Sessions 1 to 40\n",
    "        print(f\"Processing Session {session} for Subject {subject:02d}...\")\n",
    "        beta_path = download_nsd_data(subject=subject, session=session)\n",
    "\n",
    "        try:\n",
    "            betas = load_betas(beta_path)\n",
    "            all_mtl_sessions[session] = extract_mtl_rois(betas, MTL_data)\n",
    "            del betas\n",
    "            gc.collect()\n",
    "            os.remove(beta_path)\n",
    "        except Exception as e:\n",
    "            print(f\"Error processing subj{subject:02d} session{session:02d}: {e}\")\n",
    "            # Clean up broken or empty beta file\n",
    "            if os.path.exists(beta_path):\n",
    "                os.remove(beta_path)\n",
    "\n",
    "    save_path = os.path.join(SAVE_BASE_PATH, f\"subj{subject:02d}_all_mtl_sessions.h5\")\n",
    "\n",
    "    save_hdf5(all_mtl_sessions, save_path)\n",
    "    os.remove(mtl_mask_path)  # Clean up MTL mask after use"
   ]
  }
 ],
 "metadata": {
  "kernelspec": {
   "display_name": "Python 3 (ipykernel)",
   "language": "python",
   "name": "python3"
  },
  "language_info": {
   "codemirror_mode": {
    "name": "ipython",
    "version": 3
   },
   "file_extension": ".py",
   "mimetype": "text/x-python",
   "name": "python",
   "nbconvert_exporter": "python",
   "pygments_lexer": "ipython3",
   "version": "3.11.11"
  }
 },
 "nbformat": 4,
 "nbformat_minor": 5
}
