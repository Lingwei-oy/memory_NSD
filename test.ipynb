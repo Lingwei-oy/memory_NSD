{
 "cells": [
  {
   "cell_type": "code",
   "execution_count": 1,
   "id": "82d548e1-16c2-4a8b-93bf-0b029fa43da9",
   "metadata": {},
   "outputs": [],
   "source": [
    "from cloudpathlib import S3Path, S3Client\n",
    "from pathlib import Path\n",
    "from utilities import ls, crawl\n",
    "\n",
    "# Set up our cache path:\n",
    "cache_path = Path('/home/jovyan/cache')\n",
    "if not cache_path.exists():\n",
    "    cache_path.mkdir()\n",
    "\n",
    "# Create the root S3Path for the NSD:\n",
    "nsd_base_path = S3Path(\n",
    "    's3://natural-scenes-dataset/',\n",
    "    client=S3Client(\n",
    "        no_sign_request=True,\n",
    "        local_cache_dir=cache_path))"
   ]
  },
  {
   "cell_type": "code",
   "execution_count": 2,
   "id": "073d730e-5919-40f5-9146-5a7ba9c4c334",
   "metadata": {},
   "outputs": [
    {
     "ename": "ValueError",
     "evalue": "Path 's3://natural-scenes-dataset/nsddata/freesurfer/subj01/label/lh.aparc.a2009s.annot' is not a directory",
     "output_type": "error",
     "traceback": [
      "\u001b[0;31m---------------------------------------------------------------------------\u001b[0m",
      "\u001b[0;31mValueError\u001b[0m                                Traceback (most recent call last)",
      "Cell \u001b[0;32mIn[2], line 3\u001b[0m\n\u001b[1;32m      1\u001b[0m \u001b[38;5;28;01mimport\u001b[39;00m\u001b[38;5;250m \u001b[39m\u001b[38;5;21;01mnibabel\u001b[39;00m\u001b[38;5;250m \u001b[39m\u001b[38;5;28;01mas\u001b[39;00m\u001b[38;5;250m \u001b[39m\u001b[38;5;21;01mnib\u001b[39;00m\n\u001b[0;32m----> 3\u001b[0m \u001b[43mls\u001b[49m\u001b[43m(\u001b[49m\u001b[43mnsd_base_path\u001b[49m\u001b[43m \u001b[49m\u001b[38;5;241;43m/\u001b[39;49m\u001b[43m \u001b[49m\u001b[38;5;124;43m'\u001b[39;49m\u001b[38;5;124;43mnsddata\u001b[39;49m\u001b[38;5;124;43m'\u001b[39;49m\u001b[43m \u001b[49m\u001b[38;5;241;43m/\u001b[39;49m\u001b[43m \u001b[49m\u001b[38;5;124;43m'\u001b[39;49m\u001b[38;5;124;43mfreesurfer\u001b[39;49m\u001b[38;5;124;43m'\u001b[39;49m\u001b[43m \u001b[49m\u001b[38;5;241;43m/\u001b[39;49m\u001b[43m \u001b[49m\u001b[38;5;124;43m'\u001b[39;49m\u001b[38;5;124;43msubj01\u001b[39;49m\u001b[38;5;124;43m'\u001b[39;49m\u001b[43m \u001b[49m\u001b[38;5;241;43m/\u001b[39;49m\u001b[43m \u001b[49m\u001b[38;5;124;43m'\u001b[39;49m\u001b[38;5;124;43mlabel\u001b[39;49m\u001b[38;5;124;43m'\u001b[39;49m\u001b[43m \u001b[49m\u001b[38;5;241;43m/\u001b[39;49m\u001b[43m \u001b[49m\u001b[38;5;124;43m'\u001b[39;49m\u001b[38;5;124;43mlh.aparc.a2009s.annot\u001b[39;49m\u001b[38;5;124;43m'\u001b[39;49m\u001b[43m)\u001b[49m\n",
      "File \u001b[0;32m~/memory_NSD/utilities.py:9\u001b[0m, in \u001b[0;36mls\u001b[0;34m(path)\u001b[0m\n\u001b[1;32m      7\u001b[0m \u001b[38;5;66;03m# If path is not a directory, raise an error:\u001b[39;00m\n\u001b[1;32m      8\u001b[0m \u001b[38;5;28;01mif\u001b[39;00m \u001b[38;5;129;01mnot\u001b[39;00m path\u001b[38;5;241m.\u001b[39mis_dir():\n\u001b[0;32m----> 9\u001b[0m     \u001b[38;5;28;01mraise\u001b[39;00m \u001b[38;5;167;01mValueError\u001b[39;00m(\u001b[38;5;124mf\u001b[39m\u001b[38;5;124m\"\u001b[39m\u001b[38;5;124mPath \u001b[39m\u001b[38;5;124m'\u001b[39m\u001b[38;5;132;01m{\u001b[39;00mpath\u001b[38;5;132;01m}\u001b[39;00m\u001b[38;5;124m'\u001b[39m\u001b[38;5;124m is not a directory\u001b[39m\u001b[38;5;124m\"\u001b[39m)\n\u001b[1;32m     10\u001b[0m \u001b[38;5;28;01melse\u001b[39;00m:\n\u001b[1;32m     11\u001b[0m     \u001b[38;5;28;01mreturn\u001b[39;00m \u001b[38;5;28mlist\u001b[39m(path\u001b[38;5;241m.\u001b[39miterdir())\n",
      "\u001b[0;31mValueError\u001b[0m: Path 's3://natural-scenes-dataset/nsddata/freesurfer/subj01/label/lh.aparc.a2009s.annot' is not a directory"
     ]
    }
   ],
   "source": [
    "import nibabel as nib\n",
    "\n",
    "ls(nsd_base_path / 'nsddata' / 'freesurfer' / 'subj01' / 'label' / 'lh.aparc.a2009s.annot')"
   ]
  },
  {
   "cell_type": "code",
   "execution_count": 6,
   "id": "841a4cad-7f29-4e03-a973-6b4d9648c48e",
   "metadata": {},
   "outputs": [
    {
     "name": "stdout",
     "output_type": "stream",
     "text": [
      "Loading s3://natural-scenes-dataset/nsddata_betas/ppdata/subj01/func1mm/betas_fithrf_GLMdenoise_RR/betas_session05.nii.gz\n",
      "Loaded image shape: (145, 186, 148, 750)\n"
     ]
    }
   ],
   "source": [
    "def load_beta_session(subject_id='subj01', resolution='func1mm', session_num=5):\n",
    "    nsd_base_path = CloudPath(\n",
    "        's3://natural-scenes-dataset/',\n",
    "        S3Client(no_sign_request=True)\n",
    "    )\n",
    "    filename = f'betas_session{session_num:02d}.nii.gz'  # zero-padded\n",
    "    file_path = nsd_base_path / 'nsddata_betas' / 'ppdata' / subject_id / resolution / 'betas_fithrf_GLMdenoise_RR' / filename\n",
    "    print(f\"Loading {file_path}\")\n",
    "    img = nib.load(file_path.fspath)\n",
    "    print(f\"Loaded image shape: {img.shape}\")\n",
    "    return img\n",
    "# Example: load session 5 betas\n",
    "img_session5 = load_beta_session(session_num=5)"
   ]
  },
  {
   "cell_type": "code",
   "execution_count": 14,
   "id": "9ffb388b-ac89-4e0f-999f-3ddd5c9437be",
   "metadata": {},
   "outputs": [
    {
     "data": {
      "text/html": [
       "<div>\n",
       "<style scoped>\n",
       "    .dataframe tbody tr th:only-of-type {\n",
       "        vertical-align: middle;\n",
       "    }\n",
       "\n",
       "    .dataframe tbody tr th {\n",
       "        vertical-align: top;\n",
       "    }\n",
       "\n",
       "    .dataframe thead th {\n",
       "        text-align: right;\n",
       "    }\n",
       "</style>\n",
       "<table border=\"1\" class=\"dataframe\">\n",
       "  <thead>\n",
       "    <tr style=\"text-align: right;\">\n",
       "      <th></th>\n",
       "      <th>3078</th>\n",
       "    </tr>\n",
       "  </thead>\n",
       "  <tbody>\n",
       "    <tr>\n",
       "      <th>0</th>\n",
       "      <td>3172</td>\n",
       "    </tr>\n",
       "    <tr>\n",
       "      <th>1</th>\n",
       "      <td>3914</td>\n",
       "    </tr>\n",
       "    <tr>\n",
       "      <th>2</th>\n",
       "      <td>4424</td>\n",
       "    </tr>\n",
       "    <tr>\n",
       "      <th>3</th>\n",
       "      <td>4668</td>\n",
       "    </tr>\n",
       "    <tr>\n",
       "      <th>4</th>\n",
       "      <td>5584</td>\n",
       "    </tr>\n",
       "    <tr>\n",
       "      <th>...</th>\n",
       "      <td>...</td>\n",
       "    </tr>\n",
       "    <tr>\n",
       "      <th>94</th>\n",
       "      <td>70233</td>\n",
       "    </tr>\n",
       "    <tr>\n",
       "      <th>95</th>\n",
       "      <td>70506</td>\n",
       "    </tr>\n",
       "    <tr>\n",
       "      <th>96</th>\n",
       "      <td>71411</td>\n",
       "    </tr>\n",
       "    <tr>\n",
       "      <th>97</th>\n",
       "      <td>72016</td>\n",
       "    </tr>\n",
       "    <tr>\n",
       "      <th>98</th>\n",
       "      <td>72720</td>\n",
       "    </tr>\n",
       "  </tbody>\n",
       "</table>\n",
       "<p>99 rows × 1 columns</p>\n",
       "</div>"
      ],
      "text/plain": [
       "     3078\n",
       "0    3172\n",
       "1    3914\n",
       "2    4424\n",
       "3    4668\n",
       "4    5584\n",
       "..    ...\n",
       "94  70233\n",
       "95  70506\n",
       "96  71411\n",
       "97  72016\n",
       "98  72720\n",
       "\n",
       "[99 rows x 1 columns]"
      ]
     },
     "execution_count": 14,
     "metadata": {},
     "output_type": "execute_result"
    }
   ],
   "source": [
    "import numpy as np\n",
    "import pandas as pd\n",
    "\n",
    "# find the 100 shared images that are seen 3 times\n",
    "stiminfo = nsd_base_path / 'nsddata' / 'stimuli' / 'nsd' / 'special100.tsv'\n",
    "\n",
    "with stiminfo.open('r') as f:\n",
    "    stimdata = pd.read_csv(f)\n",
    "\n",
    "stimdata\n",
    "\n",
    "# load in behavioral data\n",
    "\n",
    "\n",
    "# filter for just imagaes that match shared image tsv file\n",
    "# filter out CHANGEMIND == NaN\n",
    "# filter out MISSINGDATA == 1 (buttons failed to be recorded)\n",
    "\n",
    "\n",
    "# determine which sessions the images appeared in (should be first, second, and third) \n",
    "\n",
    "\n",
    "# ISOLD is 0 (the image is novel) or 1 (the image is old)\n",
    "# we want to add variable that says when the item was encoded (0), when it was first seen again- retrieved (1), \n",
    "# and when it was last seen again- retrieved (2) \n",
    "# variable is encoded v. retrieved\n",
    "# encoded (0) is when ISOLD == 0\n",
    "# retrieved (1 & 2) is when ISOLD == 1:\n",
    "    # retrieved first (1) is when session # and trial # are less than\n",
    "    # retrieved second (2) is when session # and trial # are greater than \n",
    "\n",
    "# use filtered data to create index that can be used to filter nifti files for ONLY the trials that we want "
   ]
  },
  {
   "cell_type": "code",
   "execution_count": 5,
   "id": "fded8a44-d460-459d-a57d-4deb2e277014",
   "metadata": {},
   "outputs": [
    {
     "ename": "NameError",
     "evalue": "name 'nsd_base_path' is not defined",
     "output_type": "error",
     "traceback": [
      "\u001b[0;31m---------------------------------------------------------------------------\u001b[0m",
      "\u001b[0;31mNameError\u001b[0m                                 Traceback (most recent call last)",
      "Cell \u001b[0;32mIn[5], line 1\u001b[0m\n\u001b[0;32m----> 1\u001b[0m stiminfo \u001b[38;5;241m=\u001b[39m \u001b[43mnsd_base_path\u001b[49m \u001b[38;5;241m/\u001b[39m \u001b[38;5;124m'\u001b[39m\u001b[38;5;124mnsddata\u001b[39m\u001b[38;5;124m'\u001b[39m \u001b[38;5;241m/\u001b[39m \u001b[38;5;124m'\u001b[39m\u001b[38;5;124mexperiments\u001b[39m\u001b[38;5;124m'\u001b[39m \u001b[38;5;241m/\u001b[39m \u001b[38;5;124m'\u001b[39m\u001b[38;5;124mnsd\u001b[39m\u001b[38;5;124m'\u001b[39m \u001b[38;5;241m/\u001b[39m \u001b[38;5;124m'\u001b[39m\u001b[38;5;124mnsd_stim_info_merged.csv\u001b[39m\u001b[38;5;124m'\u001b[39m\n\u001b[1;32m      3\u001b[0m \u001b[38;5;28;01mwith\u001b[39;00m stiminfo\u001b[38;5;241m.\u001b[39mopen(\u001b[38;5;124m'\u001b[39m\u001b[38;5;124mr\u001b[39m\u001b[38;5;124m'\u001b[39m) \u001b[38;5;28;01mas\u001b[39;00m f:\n\u001b[1;32m      4\u001b[0m     stimdata \u001b[38;5;241m=\u001b[39m pd\u001b[38;5;241m.\u001b[39mread_csv(f)\n",
      "\u001b[0;31mNameError\u001b[0m: name 'nsd_base_path' is not defined"
     ]
    }
   ],
   "source": []
  },
  {
   "cell_type": "code",
   "execution_count": null,
   "id": "6540ab88-2f37-4d86-9ce1-a774666a3c17",
   "metadata": {},
   "outputs": [],
   "source": []
  }
 ],
 "metadata": {
  "kernelspec": {
   "display_name": "Python 3 (ipykernel)",
   "language": "python",
   "name": "python3"
  },
  "language_info": {
   "codemirror_mode": {
    "name": "ipython",
    "version": 3
   },
   "file_extension": ".py",
   "mimetype": "text/x-python",
   "name": "python",
   "nbconvert_exporter": "python",
   "pygments_lexer": "ipython3",
   "version": "3.11.11"
  }
 },
 "nbformat": 4,
 "nbformat_minor": 5
}
