{
 "cells": [
  {
   "cell_type": "code",
   "execution_count": 1,
   "id": "17e968d7-c0c0-492e-8f9b-a164aa5716a8",
   "metadata": {},
   "outputs": [],
   "source": [
    "# this code loads the data"
   ]
  },
  {
   "cell_type": "code",
   "execution_count": 1,
   "id": "222c5fd4-3e84-4385-9217-32e29a956b26",
   "metadata": {},
   "outputs": [],
   "source": [
    "# import packages for S3 object\n",
    "from cloudpathlib import S3Path, S3Client\n",
    "from pathlib import Path"
   ]
  },
  {
   "cell_type": "code",
   "execution_count": 2,
   "id": "8846762a-8abd-4dd6-984b-d151ce614baa",
   "metadata": {},
   "outputs": [],
   "source": [
    "from utilities import ls, crawl \n",
    "from cloudpathlib import CloudPath, S3Client\n",
    "import nibabel as nib\n",
    "import numpy as np\n",
    "import pandas as pd"
   ]
  },
  {
   "cell_type": "code",
   "execution_count": 3,
   "id": "f9a586a6-df29-4e00-b39c-e23146fca251",
   "metadata": {},
   "outputs": [],
   "source": [
    "import nilearn\n",
    "import matplotlib.pyplot as plt\n",
    "import os"
   ]
  },
  {
   "cell_type": "code",
   "execution_count": 4,
   "id": "b3f7da5a-e8fc-4f86-ad11-a8db922b09a4",
   "metadata": {},
   "outputs": [],
   "source": [
    "# load the S3 object first\n",
    "# Set up our cache path:\n",
    "cache_path = Path('/tmp/cache')\n",
    "if not cache_path.exists():\n",
    "    cache_path.mkdir()\n",
    "\n",
    "# Create the root S3Path for the NSD:\n",
    "nsd_base_path = S3Path(\n",
    "    's3://natural-scenes-dataset/',\n",
    "    client=S3Client(\n",
    "        no_sign_request=True,\n",
    "        local_cache_dir=cache_path))"
   ]
  },
  {
   "cell_type": "code",
   "execution_count": 5,
   "id": "c99bc8b9-53b8-47c8-9e03-3cc1a9bd5efa",
   "metadata": {},
   "outputs": [],
   "source": [
    "def nifti_to_array(filepath):\n",
    "    img = nib.load(filepath.fspath)\n",
    "    img_dat = img.dataobj\n",
    "    img_array = np.asanyarray(img_dat)\n",
    "    return(img_array)\n",
    "\n",
    "# change this for each subject\n",
    "def load_masked_session_betas(\n",
    "    session_num,\n",
    "    subject_id='subj01', # change for every subject\n",
    "    resolution='func1mm',\n",
    "    roi='MTL',\n",
    "    label_value=1, # go through 1 to 10\n",
    "    nsd_base_path=nsd_base_path  \n",
    "):\n",
    "    # Build file paths\n",
    "    beta_filename = f'betas_session{session_num:02d}.nii.gz'\n",
    "    beta_path = nsd_base_path / 'nsddata_betas' / 'ppdata' / subject_id / resolution / 'betas_fithrf_GLMdenoise_RR' / beta_filename\n",
    "    mask_path = nsd_base_path / 'nsddata' / 'ppdata' / subject_id / resolution / 'roi' / f'{roi}.nii.gz'\n",
    "    \n",
    "    print(f\"Loading {beta_path}\")\n",
    "    \n",
    "    # Load data\n",
    "    func_img = nifti_to_array(beta_path)\n",
    "    mask_img = nifti_to_array(mask_path)\n",
    "    print(f\"loading func and mask\")\n",
    "    \n",
    "    # Apply mask\n",
    "    mask = (mask_img == label_value).astype(bool)\n",
    "    func = func_img[mask, :]\n",
    "    \n",
    "    # Convert to DataFrame\n",
    "    func_df = pd.DataFrame(func.T)\n",
    "    func_df['SESSION'] = session_num\n",
    "    func_df['SUBJECT'] = int(''.join(filter(str.isdigit, subject_id)))\n",
    "    func_df['TRIAL'] = range(1, len(func_df) + 1)\n",
    "    \n",
    "    # Define the output path\n",
    "    output_path = f\"/home/jovyan/projects/memory_NSD/behav/{roi}/{label_value}\"\n",
    "\n",
    "    # Create the directory if it doesn't exist\n",
    "    os.makedirs(output_path, exist_ok=True)\n",
    "    func_df.to_csv(f\"{output_path}/{subject_id}_{roi}_{label_value}_{session_num}.tsv\", sep='\\t', index=False)\n",
    "    return func_df\n",
    "\n",
    "# Loop through all sessions\n",
    "def load_all_sessions(num_sessions=40, **kwargs):\n",
    "    for session_num in range(1, num_sessions + 40):\n",
    "        load_masked_session_betas(session_num, **kwargs)\n",
    "\n"
   ]
  },
  {
   "cell_type": "code",
   "execution_count": 6,
   "id": "3fdddfc4-8088-4010-960e-f0f88bd0638f",
   "metadata": {},
   "outputs": [
    {
     "name": "stdout",
     "output_type": "stream",
     "text": [
      "Loading s3://natural-scenes-dataset/nsddata_betas/ppdata/subj01/func1mm/betas_fithrf_GLMdenoise_RR/betas_session01.nii.gz\n",
      "loading func and mask\n",
      "Loading s3://natural-scenes-dataset/nsddata_betas/ppdata/subj01/func1mm/betas_fithrf_GLMdenoise_RR/betas_session02.nii.gz\n",
      "loading func and mask\n"
     ]
    }
   ],
   "source": [
    "# Example usage\n",
    "all_data = load_all_sessions(nsd_base_path=nsd_base_path)"
   ]
  },
  {
   "cell_type": "code",
   "execution_count": 49,
   "id": "079971ef-e95b-4252-a0b0-147867814380",
   "metadata": {},
   "outputs": [],
   "source": [
    "# for the subject, read the session file\n",
    "#import pandas as pd\n",
    "#path_behav = f\"/home/jovyan/projects/memory_NSD/behav/{subject_id.replace('j', '')}_behav.tsv\"\n",
    "#behav_file = pd.read_csv(path_behav, sep = '\\t')"
   ]
  }
 ],
 "metadata": {
  "kernelspec": {
   "display_name": "Python 3 (ipykernel)",
   "language": "python",
   "name": "python3"
  },
  "language_info": {
   "codemirror_mode": {
    "name": "ipython",
    "version": 3
   },
   "file_extension": ".py",
   "mimetype": "text/x-python",
   "name": "python",
   "nbconvert_exporter": "python",
   "pygments_lexer": "ipython3",
   "version": "3.11.11"
  }
 },
 "nbformat": 4,
 "nbformat_minor": 5
}
