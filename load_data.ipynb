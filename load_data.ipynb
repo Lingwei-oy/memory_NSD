{
 "cells": [
  {
   "cell_type": "code",
   "execution_count": 1,
   "id": "17e968d7-c0c0-492e-8f9b-a164aa5716a8",
   "metadata": {},
   "outputs": [],
   "source": [
    "# this code loads the data"
   ]
  },
  {
   "cell_type": "code",
   "execution_count": 2,
   "id": "222c5fd4-3e84-4385-9217-32e29a956b26",
   "metadata": {},
   "outputs": [],
   "source": [
    "# import packages for S3 object\n",
    "from cloudpathlib import S3Path, S3Client\n",
    "from pathlib import Path"
   ]
  },
  {
   "cell_type": "code",
   "execution_count": 3,
   "id": "8846762a-8abd-4dd6-984b-d151ce614baa",
   "metadata": {},
   "outputs": [],
   "source": [
    "from utilities import ls, crawl \n",
    "from cloudpathlib import CloudPath, S3Client\n",
    "import nibabel as nib\n",
    "import numpy as np"
   ]
  },
  {
   "cell_type": "code",
   "execution_count": 4,
   "id": "f9a586a6-df29-4e00-b39c-e23146fca251",
   "metadata": {},
   "outputs": [],
   "source": [
    "import nilearn\n",
    "import matplotlib.pyplot as plt"
   ]
  },
  {
   "cell_type": "code",
   "execution_count": 5,
   "id": "b3f7da5a-e8fc-4f86-ad11-a8db922b09a4",
   "metadata": {},
   "outputs": [],
   "source": [
    "# load the S3 object first\n",
    "# Set up our cache path:\n",
    "cache_path = Path('/tmp/cache')\n",
    "if not cache_path.exists():\n",
    "    cache_path.mkdir()\n",
    "\n",
    "# Create the root S3Path for the NSD:\n",
    "nsd_base_path = S3Path(\n",
    "    's3://natural-scenes-dataset/',\n",
    "    client=S3Client(\n",
    "        no_sign_request=True,\n",
    "        local_cache_dir=cache_path))"
   ]
  },
  {
   "cell_type": "code",
   "execution_count": 6,
   "id": "9dcbd7eb-288a-457f-8b12-5d5754cb6154",
   "metadata": {},
   "outputs": [
    {
     "name": "stdout",
     "output_type": "stream",
     "text": [
      "Loading s3://natural-scenes-dataset/nsddata_betas/ppdata/subj01/func1mm/betas_fithrf_GLMdenoise_RR/betas_session01.nii.gz\n"
     ]
    }
   ],
   "source": [
    "# get the path for subject 1\n",
    "session_num = 1\n",
    "subject_id = 'subj01'\n",
    "resolution = 'func1mm'\n",
    "filename = f'betas_session{session_num:02d}.nii.gz'  # zero-padded\n",
    "file_path = nsd_base_path / 'nsddata_betas' / 'ppdata' / subject_id / resolution / 'betas_fithrf_GLMdenoise_RR' / filename\n",
    "print(f\"Loading {file_path}\")\n",
    "\n",
    "# load functional image by load\n",
    "func_img = nib.load(file_path.fspath)\n",
    "# get dataobj instead of the nii file\n",
    "func_img_dat = func_img.dataobj"
   ]
  },
  {
   "cell_type": "code",
   "execution_count": 7,
   "id": "52493f56-e293-4a8c-ba71-122d3c581ee4",
   "metadata": {},
   "outputs": [],
   "source": [
    "# transform the dataobj into a numpy array\n",
    "# takes around 10 seconds\n",
    "func_img_dat = np.asanyarray(func_img_dat)"
   ]
  },
  {
   "cell_type": "code",
   "execution_count": 8,
   "id": "25d60074-dad5-46c4-aa11-5a10a227bfc4",
   "metadata": {},
   "outputs": [],
   "source": [
    "# mask the left MTL lobe first\n",
    "# where is MTL mask?\n",
    "mask_path = nsd_base_path / 'nsddata' / 'ppdata' / 'subj01' / 'func1mm' / 'roi'\n",
    "masks = ['MTL']"
   ]
  },
  {
   "cell_type": "code",
   "execution_count": 9,
   "id": "e250d0fc-63b7-4320-9a57-c70988523de9",
   "metadata": {},
   "outputs": [
    {
     "data": {
      "text/plain": [
       "S3Path('s3://natural-scenes-dataset/nsddata/ppdata/subj01/func1mm/roi/MTL.nii.gz')"
      ]
     },
     "execution_count": 9,
     "metadata": {},
     "output_type": "execute_result"
    }
   ],
   "source": [
    "# get path to a specific mask\n",
    "i = 0\n",
    "mask_path_current = mask_path / f'{masks[0]}.nii.gz'\n",
    "mask_path_current"
   ]
  },
  {
   "cell_type": "code",
   "execution_count": 10,
   "id": "0bfe060e-62ee-4e1f-86d0-ae18685ad753",
   "metadata": {},
   "outputs": [],
   "source": [
    "# get mask image\n",
    "mask_img = nib.load(mask_path_current.fspath)"
   ]
  },
  {
   "cell_type": "code",
   "execution_count": 11,
   "id": "b7e17d4b-7387-4f10-9205-1a6b92ae3103",
   "metadata": {},
   "outputs": [],
   "source": [
    "func_img_map = func_img.dataobj"
   ]
  },
  {
   "cell_type": "code",
   "execution_count": 12,
   "id": "1180d46e-2b1a-47cf-a569-a86fab716a57",
   "metadata": {},
   "outputs": [],
   "source": [
    "# get the dataobject of the masked image to manipulate it\n",
    "mask_img_dat = np.asanyarray(mask_img.dataobj)"
   ]
  },
  {
   "cell_type": "code",
   "execution_count": 31,
   "id": "f3ee521c-31f5-4302-851a-1250633673b1",
   "metadata": {},
   "outputs": [
    {
     "name": "stdout",
     "output_type": "stream",
     "text": [
      "0\n",
      "1\n",
      "2\n",
      "3\n",
      "4\n",
      "5\n",
      "6\n",
      "7\n",
      "8\n",
      "9\n",
      "10\n"
     ]
    },
    {
     "data": {
      "text/plain": [
       "0"
      ]
     },
     "execution_count": 31,
     "metadata": {},
     "output_type": "execute_result"
    }
   ],
   "source": [
    "sub_rois = np.arange(11)\n",
    "for i in sub_rois: print(i)\n",
    "sub_rois[0]"
   ]
  },
  {
   "cell_type": "code",
   "execution_count": 14,
   "id": "57fcff9e-9a5b-438f-b450-c92f89026a2a",
   "metadata": {},
   "outputs": [],
   "source": [
    "# This will be a function to create masked image\n",
    "# create masked image\n",
    "i = 5\n",
    "masked_img = (mask_img_dat == i).astype(bool)\n",
    "# this function returns the masked image\n",
    "func_img_dat[masked_img, :].shape"
   ]
  },
  {
   "cell_type": "code",
   "execution_count": 15,
   "id": "ebc74866-e675-498c-b87d-50d380e264f8",
   "metadata": {},
   "outputs": [
    {
     "data": {
      "text/plain": [
       "1464"
      ]
     },
     "execution_count": 15,
     "metadata": {},
     "output_type": "execute_result"
    }
   ],
   "source": [
    "np.sum(masked_img)"
   ]
  },
  {
   "cell_type": "code",
   "execution_count": 38,
   "id": "fc581020-5c74-4ec0-9aa2-59a33f0f73cd",
   "metadata": {
    "jupyter": {
     "source_hidden": true
    }
   },
   "outputs": [
    {
     "data": {
      "text/plain": [
       "Text(0.5, 1.0, 'Sagittal (X) slice')"
      ]
     },
     "execution_count": 38,
     "metadata": {},
     "output_type": "execute_result"
    },
    {
     "data": {
      "image/png": "[encoded data removed]",
      "text/plain": [
       "<Figure size 1500x500 with 3 Axes>"
      ]
     },
     "metadata": {},
     "output_type": "display_data"
    }
   ],
   "source": [
    "# Plot slices from each axis\n",
    "fig, axes = plt.subplots(1, 3, figsize=(15, 5))\n",
    "\n",
    "axes[0].imshow(masked_img[masked_img.shape[0] // 2, :, :], cmap='gray')\n",
    "axes[0].set_title('Axial (Z) slice')\n",
    "\n",
    "axes[1].imshow(masked_img[:, masked_img.shape[1] // 2, :], cmap='gray')\n",
    "axes[1].set_title('Coronal (Y) slice')\n",
    "\n",
    "axes[2].imshow(masked_img[:, :, masked_img.shape[2] // 2], cmap='gray')\n",
    "axes[2].set_title('Sagittal (X) slice')"
   ]
  },
  {
   "cell_type": "code",
   "execution_count": 21,
   "id": "079971ef-e95b-4252-a0b0-147867814380",
   "metadata": {},
   "outputs": [
    {
     "data": {
      "text/plain": [
       "(1464, 750)"
      ]
     },
     "execution_count": 21,
     "metadata": {},
     "output_type": "execute_result"
    }
   ],
   "source": []
  },
  {
   "cell_type": "code",
   "execution_count": 41,
   "id": "c0236047-ebc3-4649-b3c9-953511826948",
   "metadata": {},
   "outputs": [
    {
     "data": {
      "text/plain": [
       "(145, 186, 148)"
      ]
     },
     "execution_count": 41,
     "metadata": {},
     "output_type": "execute_result"
    }
   ],
   "source": [
    "masked_img.shape"
   ]
  },
  {
   "cell_type": "code",
   "execution_count": 45,
   "id": "321f2661-1de9-4894-92e4-a99b6adbb53e",
   "metadata": {},
   "outputs": [],
   "source": [
    "# "
   ]
  },
  {
   "cell_type": "code",
   "execution_count": 61,
   "id": "a078cacf-1158-43ee-bbae-2ed785efa901",
   "metadata": {},
   "outputs": [
    {
     "data": {
      "text/plain": [
       "dtype('<i2')"
      ]
     },
     "execution_count": 61,
     "metadata": {},
     "output_type": "execute_result"
    }
   ],
   "source": [
    "func_img_masked.dtype"
   ]
  },
  {
   "cell_type": "code",
   "execution_count": null,
   "id": "cc4a70f4-5e3c-4651-8e7b-3f2e531217aa",
   "metadata": {},
   "outputs": [],
   "source": [
    "# mask their MTL"
   ]
  },
  {
   "cell_type": "code",
   "execution_count": null,
   "id": "b4ef525f-400e-491c-b79d-92d13a8b1a03",
   "metadata": {},
   "outputs": [],
   "source": [
    "# select "
   ]
  },
  {
   "cell_type": "code",
   "execution_count": null,
   "id": "c8fa089e-ede3-4719-ba51-73ec32da860a",
   "metadata": {},
   "outputs": [],
   "source": [
    "# filter the file and select the rows"
   ]
  },
  {
   "cell_type": "code",
   "execution_count": null,
   "id": "8ed0c7d5-42e6-4dee-8b2a-44024f312975",
   "metadata": {},
   "outputs": [],
   "source": [
    "# ers"
   ]
  }
 ],
 "metadata": {
  "kernelspec": {
   "display_name": "Python 3 (ipykernel)",
   "language": "python",
   "name": "python3"
  },
  "language_info": {
   "codemirror_mode": {
    "name": "ipython",
    "version": 3
   },
   "file_extension": ".py",
   "mimetype": "text/x-python",
   "name": "python",
   "nbconvert_exporter": "python",
   "pygments_lexer": "ipython3",
   "version": "3.11.11"
  }
 },
 "nbformat": 4,
 "nbformat_minor": 5
}
